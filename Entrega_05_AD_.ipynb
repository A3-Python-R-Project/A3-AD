{
  "nbformat": 4,
  "nbformat_minor": 0,
  "metadata": {
    "colab": {
      "provenance": []
    },
    "kernelspec": {
      "name": "python3",
      "display_name": "Python 3"
    },
    "language_info": {
      "name": "python"
    }
  },
  "cells": [
    {
      "cell_type": "code",
      "execution_count": 7,
      "metadata": {
        "colab": {
          "base_uri": "https://localhost:8080/"
        },
        "id": "MR7HB7Hu1-fG",
        "outputId": "ea60f08e-01c3-4537-b500-f923ddbcdd7f"
      },
      "outputs": [
        {
          "output_type": "stream",
          "name": "stdout",
          "text": [
            "Estatística do teste t: -3.213433097179175\n",
            "Valor-p: 0.0013525712504626976\n",
            "Rejeitar a hipótese nula. Há evidências estatísticas de diferença nas médias de colesterol.\n"
          ]
        }
      ],
      "source": [
        "import pandas as pd\n",
        "from scipy import stats\n",
        "\n",
        "dados = pd.read_csv('heart.csv')\n",
        "\n",
        "colesterol_com_doenca = dados[dados['target'] == 1]['chol']\n",
        "colesterol_sem_doenca = dados[dados['target'] == 0]['chol']\n",
        "\n",
        "\n",
        "estatistica_t, p_valor = stats.ttest_ind(colesterol_com_doenca, colesterol_sem_doenca)\n",
        "\n",
        "# Imprimin as estatísticas do teste t e o valor-p\n",
        "print(\"Estatística do teste t:\", estatistica_t)\n",
        "print(\"Valor-p:\", p_valor)\n",
        "\n",
        "# Comparando o valor-p com o nível de significância\n",
        "if p_valor < 0.5:\n",
        "    print(\"Rejeitar a hipótese nula. Há evidências estatísticas de diferença nas médias de colesterol.\")\n",
        "else:\n",
        "    print(\"Não há evidências estatísticas suficientes para rejeitar a hipótese nula.\")\n"
      ]
    }
  ]
}